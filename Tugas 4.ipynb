{
 "cells": [
  {
   "cell_type": "code",
   "execution_count": 13,
   "metadata": {},
   "outputs": [],
   "source": [
    "class Vertex:\n",
    "    def __init__(self, vertex):\n",
    "        self.name = vertex\n",
    "        self.neighbors = []\n",
    "        \n",
    "    def add_neighbor(self, neighbor):\n",
    "        if isinstance(neighbor, Vertex):\n",
    "            if neighbor.name not in self.neighbors:\n",
    "                self.neighbors.append(neighbor.name)\n",
    "                neighbor.neighbors.append(self.name)\n",
    "                self.neighbors = sorted(self.neighbors)\n",
    "                neighbor.neighbors = sorted(neighbor.neighbors)\n",
    "        else:\n",
    "            return False\n",
    "    def add_neighbors(self, neighbors):\n",
    "        for neighbor in neighbors:\n",
    "            if isinstance(neighbor, Vertex):\n",
    "                if neighbor.name not in self.neighbors:\n",
    "                    self.neighbors.append(neighbor.name)\n",
    "                    neighbor.neighbors.append(self.name)\n",
    "                    self.neighbors = sorted(self.neighbors)\n",
    "                    neighbor.neighbors = sorted(neighbor.neighbors)\n",
    "            else:\n",
    "                return False\n",
    "        \n",
    "    def __repr__(self):\n",
    "        return str(self.neighbors)"
   ]
  },
  {
   "cell_type": "code",
   "execution_count": 17,
   "metadata": {},
   "outputs": [
    {
     "name": "stdout",
     "output_type": "stream",
     "text": [
      "{'a': ['b', 'c'], 'b': ['a', 'd'], 'c': ['a', 'd'], 'd': ['e'], 'e': ['d']}\n"
     ]
    }
   ],
   "source": [
    "graph = { \"a\" : [\"b\", \"c\"],\n",
    "          \"b\" : [\"a\", \"d\"],\n",
    "          \"c\" : [\"a\", \"d\"],\n",
    "          \"d\" : [\"e\"],\n",
    "          \"e\" : [\"d\"]\n",
    "        }\n",
    "print(graph)"
   ]
  }
 ],
 "metadata": {
  "kernelspec": {
   "display_name": "Python 3",
   "language": "python",
   "name": "python3"
  },
  "language_info": {
   "codemirror_mode": {
    "name": "ipython",
    "version": 3
   },
   "file_extension": ".py",
   "mimetype": "text/x-python",
   "name": "python",
   "nbconvert_exporter": "python",
   "pygments_lexer": "ipython3",
   "version": "3.8.3"
  }
 },
 "nbformat": 4,
 "nbformat_minor": 4
}
